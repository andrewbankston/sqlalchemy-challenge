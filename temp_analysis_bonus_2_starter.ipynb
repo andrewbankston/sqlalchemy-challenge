{
 "cells": [
  {
   "cell_type": "code",
   "execution_count": 1,
   "metadata": {},
   "outputs": [],
   "source": [
    "%matplotlib inline\n",
    "from matplotlib import style\n",
    "style.use('fivethirtyeight')\n",
    "import matplotlib.pyplot as plt"
   ]
  },
  {
   "cell_type": "code",
   "execution_count": 2,
   "metadata": {},
   "outputs": [],
   "source": [
    "import numpy as np\n",
    "import pandas as pd\n",
    "import datetime as dt"
   ]
  },
  {
   "cell_type": "markdown",
   "metadata": {},
   "source": [
    "## Reflect Tables into SQLALchemy ORM"
   ]
  },
  {
   "cell_type": "code",
   "execution_count": 3,
   "metadata": {},
   "outputs": [],
   "source": [
    "# Python SQL toolkit and Object Relational Mapper\n",
    "import sqlalchemy\n",
    "from sqlalchemy.ext.automap import automap_base\n",
    "from sqlalchemy.orm import Session\n",
    "from sqlalchemy import create_engine, func"
   ]
  },
  {
   "cell_type": "code",
   "execution_count": 4,
   "metadata": {},
   "outputs": [],
   "source": [
    "# create engine to hawaii.sqlite\n",
    "engine = create_engine(\"sqlite:///hawaii.sqlite\")"
   ]
  },
  {
   "cell_type": "code",
   "execution_count": 5,
   "metadata": {},
   "outputs": [],
   "source": [
    "# reflect an existing database into a new model\n",
    "Base = automap_base()\n",
    "# reflect the tables\n",
    "Base.prepare(engine, reflect=True)"
   ]
  },
  {
   "cell_type": "code",
   "execution_count": 6,
   "metadata": {},
   "outputs": [
    {
     "data": {
      "text/plain": [
       "['measurement', 'station']"
      ]
     },
     "execution_count": 6,
     "metadata": {},
     "output_type": "execute_result"
    }
   ],
   "source": [
    "# View all of the classes that automap found\n",
    "Base.classes.keys()"
   ]
  },
  {
   "cell_type": "code",
   "execution_count": 7,
   "metadata": {},
   "outputs": [],
   "source": [
    "# Save references to each table\n",
    "Measurement = Base.classes.measurement\n",
    "Station = Base.classes.station"
   ]
  },
  {
   "cell_type": "code",
   "execution_count": 8,
   "metadata": {},
   "outputs": [],
   "source": [
    "# Create our session (link) from Python to the DB\n",
    "session = Session(engine)"
   ]
  },
  {
   "cell_type": "markdown",
   "metadata": {},
   "source": [
    "## Bonus Challenge Assignment: Temperature Analysis II"
   ]
  },
  {
   "cell_type": "code",
   "execution_count": 9,
   "metadata": {},
   "outputs": [
    {
     "name": "stdout",
     "output_type": "stream",
     "text": [
      "[(62.0, 69.57142857142857, 74.0)]\n"
     ]
    }
   ],
   "source": [
    "# This function called `calc_temps` will accept start date and end date in the format '%Y-%m-%d' \n",
    "# and return the minimum, maximum, and average temperatures for that range of dates\n",
    "def calc_temps(start_date, end_date):\n",
    "    \"\"\"TMIN, TAVG, and TMAX for a list of dates.\n",
    "    \n",
    "    Args:\n",
    "        start_date (string): A date string in the format %Y-%m-%d\n",
    "        end_date (string): A date string in the format %Y-%m-%d\n",
    "        \n",
    "    Returns:\n",
    "        TMIN, TAVE, and TMAX\n",
    "    \"\"\"\n",
    "    \n",
    "    return session.query(func.min(Measurement.tobs), func.avg(Measurement.tobs), func.max(Measurement.tobs)).\\\n",
    "        filter(Measurement.date >= start_date).filter(Measurement.date <= end_date).all()\n",
    "\n",
    "# For example\n",
    "print(calc_temps('2012-02-28', '2012-03-05'))"
   ]
  },
  {
   "cell_type": "code",
   "execution_count": 43,
   "metadata": {},
   "outputs": [
    {
     "name": "stdout",
     "output_type": "stream",
     "text": [
      "[(58.0, 74.64288840262581, 87.0)]\n"
     ]
    }
   ],
   "source": [
    "# Use the function `calc_temps` to calculate the tmin, tavg, and tmax \n",
    "# for a year in the data set\n",
    "result = calc_temps('2016-08-01', '2017-08-01')\n",
    "print(result)"
   ]
  },
  {
   "cell_type": "code",
   "execution_count": 41,
   "metadata": {},
   "outputs": [
    {
     "data": {
      "image/png": "[encoded data removed]",
      "text/plain": [
       "<Figure size 144x360 with 1 Axes>"
      ]
     },
     "metadata": {},
     "output_type": "display_data"
    }
   ],
   "source": [
    "# Plot the results from your previous query as a bar chart. \n",
    "# Use \"Trip Avg Temp\" as your Title\n",
    "# Use the average temperature for bar height (y value)\n",
    "# Use the peak-to-peak (tmax-tmin) value as the y error bar (yerr)\n",
    "plt.figure(figsize=(2,5))\n",
    "plt.bar(x=' ', height = result[0][1], yerr=(result[0][2]-result[0][0]))\n",
    "plt.title(\"Trip Avg Temp\")\n",
    "plt.ylabel('Temp(F)')\n",
    "plt.xlim(-0.5, 0.5)\n",
    "plt.show()"
   ]
  },
  {
   "cell_type": "markdown",
   "metadata": {},
   "source": [
    "### Daily Rainfall Average"
   ]
  },
  {
   "cell_type": "code",
   "execution_count": 44,
   "metadata": {},
   "outputs": [
    {
     "data": {
      "text/plain": [
       "[(1421.1899999999887,\n",
       "  'USC00516128',\n",
       "  'WAIKIKI 717.2, HI US',\n",
       "  21.2716,\n",
       "  -157.8168,\n",
       "  3.0),\n",
       " (715.4099999999972,\n",
       "  'USC00519281',\n",
       "  'WAIKIKI 717.2, HI US',\n",
       "  21.2716,\n",
       "  -157.8168,\n",
       "  3.0),\n",
       " (489.50999999999704,\n",
       "  'USC00513117',\n",
       "  'WAIKIKI 717.2, HI US',\n",
       "  21.2716,\n",
       "  -157.8168,\n",
       "  3.0),\n",
       " (358.19999999999976,\n",
       "  'USC00519523',\n",
       "  'WAIKIKI 717.2, HI US',\n",
       "  21.2716,\n",
       "  -157.8168,\n",
       "  3.0),\n",
       " (308.33999999999986,\n",
       "  'USC00514830',\n",
       "  'WAIKIKI 717.2, HI US',\n",
       "  21.2716,\n",
       "  -157.8168,\n",
       "  3.0),\n",
       " (154.80000000000078,\n",
       "  'USC00519397',\n",
       "  'WAIKIKI 717.2, HI US',\n",
       "  21.2716,\n",
       "  -157.8168,\n",
       "  3.0),\n",
       " (42.92999999999995,\n",
       "  'USC00517948',\n",
       "  'WAIKIKI 717.2, HI US',\n",
       "  21.2716,\n",
       "  -157.8168,\n",
       "  3.0)]"
      ]
     },
     "execution_count": 44,
     "metadata": {},
     "output_type": "execute_result"
    }
   ],
   "source": [
    "# Calculate the total amount of rainfall per weather station for your trip dates using the previous year's \n",
    "# matching dates.\n",
    "# Sort this in descending order by precipitation amount and list the station, name, latitude, longitude, and elevation\n",
    "start_date = '2016-08-01'\n",
    "end_date = '2017-08-01'\n",
    "rainfall = session.query(func.sum(Measurement.prcp), Measurement.station, Station.name, Station.latitude, Station.longitude, Station.elevation).filter(Measurement.date >= start_date).filter(Measurement.date <= end_date).group_by(Measurement.station).order_by(func.sum(Measurement.prcp).desc()).all()\n",
    "rainfall"
   ]
  },
  {
   "cell_type": "code",
   "execution_count": null,
   "metadata": {},
   "outputs": [],
   "source": [
    "# Use this function to calculate the daily normals \n",
    "# (i.e. the averages for tmin, tmax, and tavg for all historic data matching a specific month and day)\n",
    "\n",
    "def daily_normals(date):\n",
    "    \"\"\"Daily Normals.\n",
    "    \n",
    "    Args:\n",
    "        date (str): A date string in the format '%m-%d'\n",
    "        \n",
    "    Returns:\n",
    "        A list of tuples containing the daily normals, tmin, tavg, and tmax\n",
    "    \n",
    "    \"\"\"\n",
    "    \n",
    "    sel = [func.min(Measurement.tobs), func.avg(Measurement.tobs), func.max(Measurement.tobs)]\n",
    "    return session.query(*sel).filter(func.strftime(\"%m-%d\", Measurement.date) == date).all()\n",
    "\n",
    "# For example\n",
    "daily_normals(\"01-01\")"
   ]
  },
  {
   "cell_type": "code",
   "execution_count": 71,
   "metadata": {},
   "outputs": [
    {
     "data": {
      "text/plain": [
       "[datetime.datetime(2017, 8, 7, 0, 0),\n",
       " datetime.datetime(2017, 8, 6, 0, 0),\n",
       " datetime.datetime(2017, 8, 5, 0, 0),\n",
       " datetime.datetime(2017, 8, 4, 0, 0),\n",
       " datetime.datetime(2017, 8, 3, 0, 0),\n",
       " datetime.datetime(2017, 8, 2, 0, 0),\n",
       " datetime.datetime(2017, 8, 1, 0, 0)]"
      ]
     },
     "execution_count": 71,
     "metadata": {},
     "output_type": "execute_result"
    }
   ],
   "source": [
    "# calculate the daily normals for your trip\n",
    "# push each tuple of calculations into a list called `normals`\n",
    "\n",
    "# Set the start and end date of the trip\n",
    "start_date = '2017-08-01'\n",
    "end_date = '2017-08-07'\n",
    "\n",
    "# Use the start and end date to create a range of dates\n",
    "'''start = dt.datetime.strptime(start_date, \"%Y-%m-%d\")\n",
    "end = dt.datetime.strptime(end_date, \"%Y-%m-%d\")\n",
    "date_generated = [start + dt.timedelta(days=x) for x in range(0, (end-start).days+1)]\n",
    "\n",
    "date_generated'''\n",
    "\n",
    "#dates = pd.date_range(start_date,end_date).to_list()\n",
    "dates = [dt.datetime.strptime(end_date, \"%Y-%m-%d\") - dt.timedelta(days=x) for x in range(7)]\n",
    "dates\n",
    "\n",
    "# Strip off the year and save a list of strings in the format %m-%d\n",
    "'''date_list=[]\n",
    "for date in dates:\n",
    "    date_list.append(func.strftime(date,\"%m-%d\"))\n",
    "date_list'''\n",
    "dates\n",
    "# Use the `daily_normals` function to calculate the normals for each date string \n",
    "# and append the results to a list called `normals`.\n"
   ]
  },
  {
   "cell_type": "code",
   "execution_count": null,
   "metadata": {},
   "outputs": [],
   "source": [
    "# Load the previous query results into a Pandas DataFrame and add the `trip_dates` range as the `date` index"
   ]
  },
  {
   "cell_type": "code",
   "execution_count": null,
   "metadata": {},
   "outputs": [],
   "source": [
    "# Plot the daily normals as an area plot with `stacked=False`"
   ]
  },
  {
   "cell_type": "markdown",
   "metadata": {},
   "source": [
    "## Close Session"
   ]
  },
  {
   "cell_type": "code",
   "execution_count": null,
   "metadata": {},
   "outputs": [],
   "source": [
    "session.close()"
   ]
  }
 ],
 "metadata": {
  "kernelspec": {
   "display_name": "Python 3",
   "language": "python",
   "name": "python3"
  },
  "language_info": {
   "codemirror_mode": {
    "name": "ipython",
    "version": 3
   },
   "file_extension": ".py",
   "mimetype": "text/x-python",
   "name": "python",
   "nbconvert_exporter": "python",
   "pygments_lexer": "ipython3",
   "version": "3.8.3"
  }
 },
 "nbformat": 4,
 "nbformat_minor": 4
}
